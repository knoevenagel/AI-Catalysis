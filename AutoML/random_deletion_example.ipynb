{
 "cells": [
  {
   "cell_type": "code",
   "execution_count": 1,
   "metadata": {},
   "outputs": [],
   "source": [
    "import pandas as pd\n",
    "import numpy as np\n",
    "import random\n",
    "\n",
    "random.seed(1)\n",
    "np.random.seed(1)\n",
    "from autogluon.tabular import  TabularPredictor\n",
    "import matplotlib.pyplot as plt\n",
    "\n",
    "from autogluon.tabular import  TabularPredictor\n",
    "from random_choose_delete import random_choose_deletion"
   ]
  },
  {
   "cell_type": "code",
   "execution_count": 2,
   "metadata": {},
   "outputs": [],
   "source": [
    "feature_class = pd.read_excel(io = 'example/feature type(1).xlsx',index_col = 'Unnamed: 0')\n",
    "physiochemical_feature = feature_class.index[feature_class['physiochemical'] == 1]\n",
    "electronic_feature = feature_class.index[feature_class['electronic'] == 1]\n",
    "geometry_feature = feature_class.index[feature_class['geometry'] == 1]\n",
    "\n",
    "physiochemical_feature_list = list(physiochemical_feature)\n",
    "electronic_feature_list = list(electronic_feature)\n",
    "geometry_feature_list = list(geometry_feature)\n",
    "random.shuffle(physiochemical_feature_list)\n",
    "random.shuffle(geometry_feature_list)\n",
    "random.shuffle(electronic_feature_list)"
   ]
  },
  {
   "cell_type": "code",
   "execution_count": 3,
   "metadata": {},
   "outputs": [],
   "source": [
    "data = pd.read_csv('example/dummy_-1_1_scaled.csv',index_col = 'information')\n",
    "label = 'Adsorption Energy'\n",
    "feature_list = physiochemical_feature_list\n",
    "each_point_times = 3\n",
    "train_model = 'GBM'\n",
    "repeat_times = 1\n",
    "train_test_rate = 0.7\n",
    "mae_path = 'GBM/res/phy/mae_phy.csv'\n",
    "var_path = 'GBM/res/phy/var_phy.csv'\n",
    "feature_path = 'GBM/res/phy/features_phy.csv'\n",
    "each_point_times = 3"
   ]
  },
  {
   "cell_type": "code",
   "execution_count": null,
   "metadata": {},
   "outputs": [],
   "source": [
    "random_choose_deletion(data,feature_list,label,train_model,repeat_times,train_test_rate ,each_point_times = each_point_times,mae_path = mae_path,var_path = var_path,feature_path = feature_path,train_data_index = None,test_data_index = None,model_path = None)"
   ]
  },
  {
   "cell_type": "code",
   "execution_count": null,
   "metadata": {},
   "outputs": [],
   "source": [
    "data = pd.read_csv('example/dummy_-1_1_scaled.csv',index_col = 'information')\n",
    "label = 'Adsorption Energy'\n",
    "feature_list = geometry_feature_list\n",
    "each_point_times = 3\n",
    "train_model = 'GBM'\n",
    "repeat_times = 1\n",
    "train_test_rate = 0.7\n",
    "mae_path = 'GBM/res/geo/mae_geo.csv'\n",
    "var_path = 'GBM/res/geo/var_geo.csv'\n",
    "feature_path = 'GBM/res/geo/features_geo.csv'\n",
    "each_point_times = 3"
   ]
  },
  {
   "cell_type": "code",
   "execution_count": null,
   "metadata": {},
   "outputs": [],
   "source": [
    "random_choose_deletion(data,feature_list,label,train_model,repeat_times,train_test_rate ,each_point_times = each_point_times,mae_path = mae_path ,var_path = var_path,feature_path = feature_path,train_data_index = None,test_data_index = None,model_path = None)"
   ]
  },
  {
   "cell_type": "code",
   "execution_count": 6,
   "metadata": {},
   "outputs": [],
   "source": [
    "data = pd.read_csv('example/dummy_-1_1_scaled.csv',index_col = 'information')\n",
    "label = 'Adsorption Energy'\n",
    "feature_list = electronic_feature_list\n",
    "each_point_times = 3\n",
    "train_model = 'GBM'\n",
    "repeat_times = 1\n",
    "train_test_rate = 0.7\n",
    "mae_path = 'GBM/res/elec/mae_elec.csv'\n",
    "var_path = 'GBM/res/elec/var_elec.csv'\n",
    "feature_path = 'GBM/res/elec/features_elec.csv'\n",
    "each_point_times = 3"
   ]
  },
  {
   "cell_type": "code",
   "execution_count": null,
   "metadata": {},
   "outputs": [],
   "source": [
    "random_choose_deletion(data,feature_list,label,train_model,repeat_times,train_test_rate ,each_point_times = each_point_times,mae_path = mae_path ,var_path = var_path,feature_path = feature_path,train_data_index = None,test_data_index = None,model_path = None)"
   ]
  }
 ],
 "metadata": {
  "kernelspec": {
   "display_name": "base",
   "language": "python",
   "name": "python3"
  },
  "language_info": {
   "codemirror_mode": {
    "name": "ipython",
    "version": 3
   },
   "file_extension": ".py",
   "mimetype": "text/x-python",
   "name": "python",
   "nbconvert_exporter": "python",
   "pygments_lexer": "ipython3",
   "version": "3.9.7"
  },
  "orig_nbformat": 4
 },
 "nbformat": 4,
 "nbformat_minor": 2
}
